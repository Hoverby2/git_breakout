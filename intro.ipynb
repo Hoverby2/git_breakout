{
 "cells": [
  {
   "cell_type": "markdown",
   "id": "9bf80509-431c-4772-be37-4f52a5a4a009",
   "metadata": {
    "slideshow": {
     "slide_type": "slide"
    },
    "tags": []
   },
   "source": [
    "<h1 style=\"text-align: center;\">A Whirlwind Tour of Git(hub)</h1>\n",
    "\n",
    "<h2 style=\"text-align: center;\">Breakout Session</h2>\n",
    "\n",
    "\n",
    "<p style=\"text-align: center; font-style: italic;\">Jacob T. Fisher & Frederic R. Hopp</p>"
   ]
  },
  {
   "cell_type": "markdown",
   "id": "a6a813a6-8aa5-46d6-b64d-09124c764c8c",
   "metadata": {
    "slideshow": {
     "slide_type": "slide"
    },
    "tags": []
   },
   "source": [
    "# Introduction\n",
    "\n",
    "\n",
    "**Git** is a **version control system (VCS)** that lets you track changes to files over time. These files can be any kind of file (eg doc, pdf, xls), but free text differences are most easily visible (eg txt, csv, md). You can rollback changes made by you, or others. This facilitates a **playground for collaboration**, without fear of experimentation (you can always rollback changes).\n",
    "\n",
    "***\n",
    "\n",
    "**Github** is a **website** for storing your **git versioned files** remotely. It has many nice features to be able to visualize differences in files. It's mostly designed to facilitate a technical conversation between commits, pull requests, issues and particular lines of code. It's also great for **project management**, with the ability to link issues, milestones and commits.\n"
   ]
  },
  {
   "cell_type": "markdown",
   "id": "fa57fa89-2989-4387-865c-6cc4291b855f",
   "metadata": {
    "slideshow": {
     "slide_type": "slide"
    },
    "tags": []
   },
   "source": [
    "# Agenda and Breakout Goals\n",
    "\n",
    "- Basic understanding of github **components** and **environment**\n",
    "- Setting up a **github project** \n",
    "- Effective collaboration via **git workflows** "
   ]
  },
  {
   "cell_type": "markdown",
   "id": "331a05f5-dff3-4993-8dc5-edfd54f87cb7",
   "metadata": {
    "slideshow": {
     "slide_type": "skip"
    },
    "tags": []
   },
   "source": [
    "***"
   ]
  },
  {
   "cell_type": "markdown",
   "id": "b216318f-ed6a-4a9c-a3fc-890a737df5c3",
   "metadata": {
    "slideshow": {
     "slide_type": "slide"
    },
    "tags": []
   },
   "source": [
    "# Software Setup\n",
    "\n",
    "## Git, Github\n",
    "\n",
    "- **Git**. You may already have git installed. Try going to the terminal and type `git --version`. If not, then install from https://git-scm.com/downloads.\n",
    "\n",
    "- **Github**. Create an account at http://github.com, if you don't already have one. For username, we recommend all lower-case letters, short as you can. We recommend using your university email, since you can request free private repositories via GitHub Education discount."
   ]
  },
  {
   "cell_type": "markdown",
   "id": "f587034c-9de5-4b31-a3ae-f3ced7f66f0f",
   "metadata": {
    "slideshow": {
     "slide_type": "subslide"
    },
    "tags": []
   },
   "source": [
    "Configure git with global commands. On your terminal, type the following:\n",
    "```\n",
    " # display your version of git\n",
    " git --version\n",
    " \n",
    " # check if you already have configutations setup\n",
    " git config --list\n",
    "\n",
    " # replace USER with your Github user account\n",
    " git config –-global user.name USER\n",
    "\n",
    " # replace USER@UMAIL.UCSB.EDU with the email you used to register with Github\n",
    " git config –-global user.email USER@UMAIL.UCSB.EDU\n",
    "\n",
    " # list your config to confirm user.* variables set\n",
    " git config --list\n",
    "```"
   ]
  },
  {
   "cell_type": "markdown",
   "id": "927764cf-464b-46be-8c62-8d4e5db2e50d",
   "metadata": {
    "slideshow": {
     "slide_type": "skip"
    },
    "tags": []
   },
   "source": [
    "***"
   ]
  },
  {
   "cell_type": "markdown",
   "id": "6aac5cb5-fe92-4aeb-b95e-c407fb177cfd",
   "metadata": {
    "slideshow": {
     "slide_type": "slide"
    },
    "tags": []
   },
   "source": [
    "# Github Components\n",
    "\n",
    "Github essentially consists of `repositories`(think: folders) where you can store any type of file. An added benefit is PDFs, notebooks, and even slideshows (like this one!) are rendered automatically and can be viewed from any browser.\n",
    "\n",
    "## Forks 🍴 - Clones 👽 - Branches 🌲\n",
    "\n",
    "Let's start getting your first github directory. In github, there are different ways to \"download\" a repository.\n",
    "\n",
    "Mainly, we distinguish between `forking` and `cloning`. The key difference between clone and fork comes down to how much control and independence you want over the repository once you've copied it. "
   ]
  },
  {
   "cell_type": "markdown",
   "id": "ccbce476-5484-4530-b254-a763fe50997e",
   "metadata": {
    "slideshow": {
     "slide_type": "subslide"
    },
    "tags": []
   },
   "source": [
    "## Forking \n",
    "\n",
    "`Forking` is used to either propose changes to someone else's project to which **you do not have write access**, or to use someone else's project as a starting point for your own idea. You can fork a repository to create a copy of the repository and make changes without affecting the upstream repository. To learn more about forking, see [forks](https://docs.github.com/en/get-started/quickstart/fork-a-repo)\n",
    "\n",
    "## Cloning \n",
    "\n",
    "In contrast to a fork, `cloning` creates a **linked copy** that will continue to **synchronize** with the target repository."
   ]
  },
  {
   "cell_type": "markdown",
   "id": "04d006d1-3aa5-4a62-9059-d57fc0a8a883",
   "metadata": {
    "slideshow": {
     "slide_type": "subslide"
    },
    "tags": []
   },
   "source": [
    "![Clone](plots/clone-vs-fork.png)"
   ]
  },
  {
   "cell_type": "markdown",
   "id": "210d1723-602d-49dc-9465-fc18d6190fcb",
   "metadata": {
    "slideshow": {
     "slide_type": "subslide"
    },
    "tags": []
   },
   "source": [
    "## Branches\n",
    "\n",
    "A `branch` in Git is just like a branch of a tree. When you create a new repository, what you actually do is create a **main branch** and when you upload edits (make `commits`), you only commit to this main branch. This main branch typically represents a stable version of your code and this will be the code which is released or published.\n",
    "\n",
    "So, this is the reason you do not probably want to try out new features or new code on this master branch. So, if you want to add a new feature to your application you’d have to create some kind of isolated environment to try out new features and if this works, you can go ahead and merge them into the main branch. \n",
    "\n",
    "This is what branching is all about; it is a Git function that essentially makes a copy of the code, allowing you to make changes on a particular copy and then merging the changes back to the main branch."
   ]
  },
  {
   "cell_type": "markdown",
   "id": "33609bc7-f6aa-403d-8077-c752066a7a33",
   "metadata": {
    "slideshow": {
     "slide_type": "subslide"
    },
    "tags": []
   },
   "source": [
    "![Clone](plots/Fork-vs-Branch.jpg)"
   ]
  },
  {
   "cell_type": "markdown",
   "id": "0c546001-8f48-4326-839a-658f6a3bd48e",
   "metadata": {
    "slideshow": {
     "slide_type": "subslide"
    },
    "tags": []
   },
   "source": [
    "## Enough Confusion? Let's jump in! \n",
    "\n",
    "![Clone](plots/git_onedoes.jpg)\n"
   ]
  },
  {
   "cell_type": "markdown",
   "id": "fc001a7e-87a7-4b7b-b225-3d94311c184d",
   "metadata": {
    "slideshow": {
     "slide_type": "slide"
    },
    "tags": []
   },
   "source": [
    "# Hands On: Fork & Pull Request Your People Entry \n",
    "\n",
    "As an exercise for you to try out this fork & pull request model, you will add yourself to the [ICA 2022 Hackathon: Github Breakout](https://fhopp.github.io/git_breakout/) directory for this workshop which currently looks like this:\n",
    "\n",
    "![Clone](plots/attendance.png)"
   ]
  },
  {
   "cell_type": "markdown",
   "id": "214bfc46-9956-4676-b279-a07356ac4020",
   "metadata": {
    "slideshow": {
     "slide_type": "subslide"
    },
    "tags": []
   },
   "source": [
    "Please join us! Because you cannot directly write to this repository, `fork` it into your own USER space:  \n",
    "\n",
    "![Clone](plots/forking.png)\n",
    "\n",
    "After forking, you can `clone` it onto your laptop to edit locally. For this, first copy the URL to the **forked** project:\n",
    "![Clone](plots/clone.png)\n",
    "\n",
    "And execute the following in your command line:  \n",
    "\n",
    "`git clone git@github.com:YOUR_FORK.git` "
   ]
  },
  {
   "cell_type": "markdown",
   "id": "4b327f5f-8b33-4106-b27a-cd64ef668ee5",
   "metadata": {
    "slideshow": {
     "slide_type": "subslide"
    },
    "tags": []
   },
   "source": [
    "## Wohoo! 🚀\n",
    "\n",
    "Now that you forked the repo and cloned it, you are ready to edit it! \n",
    "\n",
    "Introduce yourself by adding a tiny file per your Github USERNAME.json under the _data/hack_ica22 directory. Here's an example for Freddy's Github username fhopp, so in a file named fhopp.json:\n",
    "\n",
    "```\n",
    "{\n",
    " \"emoji\": \"surfer\",\n",
    " \"introduction\": \"Asst. Prof. @ASCoR. Latte art wins my heart.\"\n",
    "}\n",
    "```"
   ]
  },
  {
   "cell_type": "markdown",
   "id": "8bf4ee55-854e-454a-b90c-7f0a0e9e3f40",
   "metadata": {
    "slideshow": {
     "slide_type": "subslide"
    },
    "tags": []
   },
   "source": [
    "## Adding, Committing  and Pushing \n",
    "\n",
    "After we created the .json file, we need to tell git that we want to `add` it to the files that will be uploaded to the online repository. For my example, we can achieve this via `git add _data/hack_ica22/fhopp.json` (edit to fit your file!). \n",
    "\n",
    "\n",
    "**Hint:** If you type `git status`, you will see all edited files, with red files denoting files not (yet) added and green denoting files that were added. \n",
    "\n",
    "***\n",
    "\n",
    "Next, with `commits`, we essentially create a `log` message that describes what changes we made. Here, a potential commit message might read:  \n",
    "`git commit -m \"added myself to attendance list\"`\n",
    "\n",
    "\n",
    "And finally, we are ready to `push` -- uploading the file to the `fork` of our repository:  \n",
    "`git push` \n",
    "\n",
    "🔥🔥🔥"
   ]
  },
  {
   "cell_type": "markdown",
   "id": "735ca6f8-36bc-4890-8944-e4c167736ac1",
   "metadata": {
    "slideshow": {
     "slide_type": "subslide"
    },
    "tags": []
   },
   "source": [
    "## Merging \n",
    "\n",
    "In a final step, you typically wish to `merge` (integrate) your changes with the original repository `https://github.com/fhopp/git_breakout`.  \n",
    "To achieve this, you need to create a [pull request](https://docs.github.com/en/pull-requests/collaborating-with-pull-requests/proposing-changes-to-your-work-with-pull-requests/creating-a-pull-request). \n",
    "\n",
    "The details of how this works (using Jekyll data files) are beyond the scope of this session, but provide a simple satisfying example for applying the fork & pull request model to a repository for which you do not have write permissions and want to contribute towards."
   ]
  },
  {
   "cell_type": "markdown",
   "id": "baa3f631-3419-4453-b75d-5efa25bd4985",
   "metadata": {
    "slideshow": {
     "slide_type": "slide"
    },
    "tags": []
   },
   "source": [
    "# Avoiding Conflicts\n",
    "\n",
    "![Clone](plots/meme_force.jpg)"
   ]
  },
  {
   "cell_type": "code",
   "execution_count": null,
   "id": "88d36881-c034-4fd3-a303-83be91309056",
   "metadata": {
    "slideshow": {
     "slide_type": "skip"
    },
    "tags": []
   },
   "outputs": [
    {
     "name": "stdout",
     "output_type": "stream",
     "text": [
      "[NbConvertApp] Converting notebook intro.ipynb to slides\n",
      "[NbConvertApp] Writing 290896 bytes to intro.slides.html\n",
      "[NbConvertApp] Serving local reveal.js\n",
      "Serving your slides at http://127.0.0.1:8000/intro.slides.html\n",
      "Use Control-C to stop this server\n",
      "WARNING:tornado.access:404 GET /custom.css (127.0.0.1) 0.73ms\n",
      "WARNING:tornado.access:404 GET /custom.css (127.0.0.1) 0.40ms\n"
     ]
    }
   ],
   "source": [
    "!jupyter nbconvert intro.ipynb --to slides --post serve --SlidesExporter.reveal_scroll=True"
   ]
  },
  {
   "cell_type": "code",
   "execution_count": null,
   "id": "97ef3903-2737-439a-8698-b2f045564db8",
   "metadata": {},
   "outputs": [],
   "source": []
  },
  {
   "cell_type": "code",
   "execution_count": null,
   "id": "5671b1cf-2bb6-485a-b691-2a83051b1456",
   "metadata": {},
   "outputs": [],
   "source": []
  }
 ],
 "metadata": {
  "kernelspec": {
   "display_name": "Python 3",
   "language": "python",
   "name": "python3"
  },
  "language_info": {
   "codemirror_mode": {
    "name": "ipython",
    "version": 3
   },
   "file_extension": ".py",
   "mimetype": "text/x-python",
   "name": "python",
   "nbconvert_exporter": "python",
   "pygments_lexer": "ipython3",
   "version": "3.7.11"
  }
 },
 "nbformat": 4,
 "nbformat_minor": 5
}
