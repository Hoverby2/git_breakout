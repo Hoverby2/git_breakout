{
 "cells": [
  {
   "cell_type": "markdown",
   "id": "9bf80509-431c-4772-be37-4f52a5a4a009",
   "metadata": {
    "slideshow": {
     "slide_type": "slide"
    },
    "tags": []
   },
   "source": [
    "<h1 style=\"text-align: center;\">A Whirlwind Tour of Git(hub)</h1>\n",
    "\n",
    "<h2 style=\"text-align: center;\">Breakout Session</h2>\n",
    "\n",
    "\n",
    "<p style=\"text-align: center; font-style: italic;\">Jacob T. Fisher & Frederic R. Hopp</p>"
   ]
  },
  {
   "cell_type": "markdown",
   "id": "a6a813a6-8aa5-46d6-b64d-09124c764c8c",
   "metadata": {
    "slideshow": {
     "slide_type": "slide"
    },
    "tags": []
   },
   "source": [
    "# Introduction\n",
    "\n",
    "\n",
    "**Git** is a **version control system (VCS)** that lets you track changes to files over time. These files can be any kind of file (eg doc, pdf, xls), but free text differences are most easily visible (eg txt, csv, md). You can rollback changes made by you, or others. This facilitates a **playground for collaboration**, without fear of experimentation (you can always rollback changes).\n",
    "\n",
    "***\n",
    "\n",
    "**Github** is a **website** for storing your **git versioned files** remotely. It has many nice features to be able to visualize differences in files. It's mostly designed to facilitate a technical conversation between commits, pull requests, issues and particular lines of code. It's also great for **project management**, with the ability to link issues, milestones and commits.\n"
   ]
  },
  {
   "cell_type": "markdown",
   "id": "fa57fa89-2989-4387-865c-6cc4291b855f",
   "metadata": {
    "slideshow": {
     "slide_type": "slide"
    },
    "tags": []
   },
   "source": [
    "# Agenda and Breakout Goals\n",
    "\n",
    "- Basic understanding of github **components** and **environment**\n",
    "- Setting up a **github project** \n",
    "- Effective collaboration via **git workflows** "
   ]
  },
  {
   "cell_type": "markdown",
   "id": "331a05f5-dff3-4993-8dc5-edfd54f87cb7",
   "metadata": {
    "slideshow": {
     "slide_type": "skip"
    },
    "tags": []
   },
   "source": [
    "***"
   ]
  },
  {
   "cell_type": "markdown",
   "id": "b216318f-ed6a-4a9c-a3fc-890a737df5c3",
   "metadata": {
    "slideshow": {
     "slide_type": "slide"
    },
    "tags": []
   },
   "source": [
    "# Software Setup\n",
    "\n",
    "## Git, Github\n",
    "\n",
    "- **Git**. You may already have git installed. Try going to the terminal and type `git --version`. If not, then install from https://git-scm.com/downloads.\n",
    "\n",
    "- **Github**. Create an account at http://github.com, if you don't already have one. For username, we recommend all lower-case letters, short as you can. We recommend using your university email, since you can request free private repositories via GitHub Education discount."
   ]
  },
  {
   "cell_type": "markdown",
   "id": "f587034c-9de5-4b31-a3ae-f3ced7f66f0f",
   "metadata": {
    "slideshow": {
     "slide_type": "subslide"
    },
    "tags": []
   },
   "source": [
    "Configure git with global commands. On your terminal, type the following:\n",
    "```\n",
    " # display your version of git\n",
    " git --version\n",
    " \n",
    " # check if you already have configutations setup\n",
    " git config --list\n",
    "\n",
    " # replace USER with your Github user account\n",
    " git config –-global user.name USER\n",
    "\n",
    " # replace USER@UMAIL.UCSB.EDU with the email you used to register with Github\n",
    " git config –-global user.email USER@UMAIL.UCSB.EDU\n",
    "\n",
    " # list your config to confirm user.* variables set\n",
    " git config --list\n",
    "```"
   ]
  },
  {
   "cell_type": "markdown",
   "id": "927764cf-464b-46be-8c62-8d4e5db2e50d",
   "metadata": {
    "slideshow": {
     "slide_type": "skip"
    },
    "tags": []
   },
   "source": [
    "***"
   ]
  },
  {
   "cell_type": "markdown",
   "id": "6aac5cb5-fe92-4aeb-b95e-c407fb177cfd",
   "metadata": {
    "slideshow": {
     "slide_type": "slide"
    },
    "tags": []
   },
   "source": [
    "# Github Components\n",
    "\n",
    "Github essentially consists of `repositories`(think: folders) where you can store any type of file. An added benefit is that PDF or notebooks are rendered automatically and can be viewed from any browser.\n",
    "\n",
    "## Cloning your first repository\n",
    "\n",
    "Enough theory! Let's start by `cloning` your first directory. In github parlance, `cloning` refers to downloading a repository for **the first time** and is not to be confused with `pulling`, which will download the latest `version` of a repository. \n",
    "\n",
    "**Exercise 1:** Download the repository for this breakout session via the following command:"
   ]
  },
  {
   "cell_type": "code",
   "execution_count": null,
   "id": "accb8fa8-856b-4158-9d7f-4019840135c8",
   "metadata": {},
   "outputs": [],
   "source": [
    "git clone git@github.com:fhopp/git_breakout.git "
   ]
  },
  {
   "cell_type": "markdown",
   "id": "2868d9eb-11d6-4169-b886-43c07f1ab8de",
   "metadata": {
    "slideshow": {
     "slide_type": "fragment"
    },
    "tags": []
   },
   "source": [
    "**Bonus:** How can we find the link to this repository? "
   ]
  },
  {
   "cell_type": "markdown",
   "id": "3d6a5f5a-9031-424c-82e3-a65701106190",
   "metadata": {
    "slideshow": {
     "slide_type": "subslide"
    },
    "tags": []
   },
   "source": [
    "![Clone](plots/clone.png)\n",
    "\n",
    "***"
   ]
  },
  {
   "cell_type": "markdown",
   "id": "baa3f631-3419-4453-b75d-5efa25bd4985",
   "metadata": {
    "slideshow": {
     "slide_type": "slide"
    },
    "tags": []
   },
   "source": [
    "# Avoiding Conflicts\n",
    "\n",
    "![Clone](plots/meme_force.jpg)\n",
    "\n",
    "## Working with Branches\n",
    "\n",
    "Once multiple people start working on the same repository, you will have to sort out how different changes/edits will be integrated/`merged` into the `master` repository.\n",
    "To avoid `conflicts`, we generally recommend that you create personal `branches`, which can later be merged into the `master` branch.  \n",
    "You can think of a branch as your user-specific copy of the repository (until the are integrated/merged). Changes that you make and \"push\" to this branch will not affect the files contained in the original (master) branch of the repository. "
   ]
  },
  {
   "cell_type": "markdown",
   "id": "7f3bd6b1-b752-4b2c-85a1-e489efa6e742",
   "metadata": {
    "slideshow": {
     "slide_type": "subslide"
    },
    "tags": []
   },
   "source": [
    "**Exercise 2:** After cloning our repository, check the branch you are on by executing: "
   ]
  },
  {
   "cell_type": "code",
   "execution_count": null,
   "id": "281ebc37-ac92-43fc-93ab-98a4b4ec55b8",
   "metadata": {},
   "outputs": [],
   "source": [
    "git status"
   ]
  },
  {
   "cell_type": "markdown",
   "id": "01658b32-2839-4641-b03b-50031889197f",
   "metadata": {
    "slideshow": {
     "slide_type": "subslide"
    },
    "tags": []
   },
   "source": [
    "This should show that you are \n",
    "- On branch master\n",
    "\n",
    "Now, to create a personal branch, run the following command: \n",
    "\n",
    "(Note that if your branch already exists, you must check it out via git checkout BRANCH_NAME (no -b!). Likewise, you can switch back to the master branch via `git checkout master`)"
   ]
  },
  {
   "cell_type": "code",
   "execution_count": null,
   "id": "9124db9d-e3e3-443a-9d7e-f57feccb7a8c",
   "metadata": {
    "tags": []
   },
   "outputs": [],
   "source": [
    "git checkout -b BRANCH_NAME"
   ]
  },
  {
   "cell_type": "markdown",
   "id": "e109c349-65a3-4e71-a642-5f0a460896ce",
   "metadata": {
    "slideshow": {
     "slide_type": "skip"
    },
    "tags": []
   },
   "source": [
    "***"
   ]
  },
  {
   "cell_type": "markdown",
   "id": "608bdc3a-e579-4dd6-8025-1002e3f19346",
   "metadata": {},
   "source": [
    "## Inspecting Edits\n",
    "\n",
    "Most likely, you want to make some changes to the repository (e.g., edit or fix some code). \n",
    "\n",
    "\n",
    "Once you made some edits to the repository (e.g., try touch NEWFILE), you can inspect those edits by again running git status. All edited/added/removed files should be shown in red in the git status output. You now have to tell Github which of these edits you actually want to be \"added\" to your online repository. You can add these files by executing git add filename(e.g., following the example above: git add NEWFILE). When you run git status now, you will see that NEWFILE is green, which means it is tracked by GitHub. After you are done with all your edits, you can push your changes to your online branch. Every push in Github first requires a commit where you clarify what edits you made. A typical commit would look like this git commit -m \"added file NEWFILE\". Run this command. Now, you are ready to push your changes to your branch (always reminds me of a great song). Note that if it is your first push to your branch you must declare an \"upstream\" branch by running git push --set-upstream origin BRANCH_NAME (e.g., git push --set-upstream origin fhopp). If everything went well, your changes are now reflected online in your personal branch."
   ]
  },
  {
   "cell_type": "code",
   "execution_count": null,
   "id": "0bb1cdd2-1b6a-4270-8c28-9cf545640c71",
   "metadata": {},
   "outputs": [],
   "source": []
  },
  {
   "cell_type": "code",
   "execution_count": null,
   "id": "3f898e2d-21c4-4209-97b2-a934c1f163b5",
   "metadata": {},
   "outputs": [],
   "source": []
  },
  {
   "cell_type": "code",
   "execution_count": null,
   "id": "94c67a27-7dc6-449f-8a7f-c40d36aa72ca",
   "metadata": {},
   "outputs": [],
   "source": []
  },
  {
   "cell_type": "code",
   "execution_count": null,
   "id": "325082de-f59f-4461-a660-c58653701025",
   "metadata": {},
   "outputs": [],
   "source": []
  },
  {
   "cell_type": "code",
   "execution_count": null,
   "id": "9e255507-e0f5-43d9-9686-6839524a7849",
   "metadata": {},
   "outputs": [],
   "source": []
  },
  {
   "cell_type": "code",
   "execution_count": 11,
   "id": "88d36881-c034-4fd3-a303-83be91309056",
   "metadata": {
    "slideshow": {
     "slide_type": "skip"
    },
    "tags": []
   },
   "outputs": [
    {
     "name": "stdout",
     "output_type": "stream",
     "text": [
      "[NbConvertApp] Converting notebook intro.ipynb to slides\n",
      "[NbConvertApp] Writing 289896 bytes to intro.slides.html\n",
      "[NbConvertApp] Serving local reveal.js\n",
      "Serving your slides at http://127.0.0.1:8000/intro.slides.html\n",
      "Use Control-C to stop this server\n",
      "WARNING:tornado.access:404 GET /custom.css (127.0.0.1) 1.11ms\n",
      "WARNING:tornado.access:404 GET /custom.css (127.0.0.1) 0.46ms\n",
      "^C\n",
      "\n",
      "Interrupted\n"
     ]
    }
   ],
   "source": [
    "!jupyter nbconvert intro.ipynb --to slides --post serve --SlidesExporter.reveal_scroll=True"
   ]
  },
  {
   "cell_type": "code",
   "execution_count": null,
   "id": "97ef3903-2737-439a-8698-b2f045564db8",
   "metadata": {},
   "outputs": [],
   "source": []
  },
  {
   "cell_type": "code",
   "execution_count": null,
   "id": "5671b1cf-2bb6-485a-b691-2a83051b1456",
   "metadata": {},
   "outputs": [],
   "source": []
  }
 ],
 "metadata": {
  "kernelspec": {
   "display_name": "Python 3",
   "language": "python",
   "name": "python3"
  },
  "language_info": {
   "codemirror_mode": {
    "name": "ipython",
    "version": 3
   },
   "file_extension": ".py",
   "mimetype": "text/x-python",
   "name": "python",
   "nbconvert_exporter": "python",
   "pygments_lexer": "ipython3",
   "version": "3.7.11"
  }
 },
 "nbformat": 4,
 "nbformat_minor": 5
}
